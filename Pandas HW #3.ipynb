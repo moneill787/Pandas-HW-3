{
 "cells": [
  {
   "cell_type": "code",
   "execution_count": 150,
   "metadata": {},
   "outputs": [],
   "source": [
    "# Dependencies and Setup\n",
    "import pandas as pd \n",
    "import numpy as np\n",
    "\n",
    "# Raw data file\n",
    "file_to_load = \"Resources/purchase_data.csv\"\n",
    "\n",
    "# Read purchasing file and store into pandas data frame\n",
    "purchase_data = pd.read_csv(file_to_load, encoding=\"utf-8\") "
   ]
  },
  {
   "cell_type": "code",
   "execution_count": 151,
   "metadata": {},
   "outputs": [],
   "source": [
    "# Get the count of each column \n",
    "# purchase_data.describe()"
   ]
  },
  {
   "cell_type": "code",
   "execution_count": 152,
   "metadata": {},
   "outputs": [],
   "source": [
    "dup_drop = purchase_data.drop_duplicates(['SN'], keep='last')"
   ]
  },
  {
   "cell_type": "code",
   "execution_count": 153,
   "metadata": {},
   "outputs": [
    {
     "name": "stdout",
     "output_type": "stream",
     "text": [
      "Total number of unique items:  179\n"
     ]
    }
   ],
   "source": [
    "# PURCHASING ANALYSIS\n",
    "# Number of unique items\n",
    "unique_item_tot = len(purchase_data[\"Item Name\"].unique())\n",
    "print(\"Total number of unique items: \", unique_item_tot)"
   ]
  },
  {
   "cell_type": "code",
   "execution_count": 154,
   "metadata": {},
   "outputs": [
    {
     "name": "stdout",
     "output_type": "stream",
     "text": [
      "Average purchase price: $3.05\n"
     ]
    }
   ],
   "source": [
    "# Average purchase price\n",
    "average = purchase_data[\"Price\"].mean()\n",
    "rounded = round(average, 2)\n",
    "print(\"Average purchase price: \" '${}'.format(rounded))"
   ]
  },
  {
   "cell_type": "code",
   "execution_count": 155,
   "metadata": {},
   "outputs": [
    {
     "name": "stdout",
     "output_type": "stream",
     "text": [
      "Total number of purchases:  780\n"
     ]
    }
   ],
   "source": [
    "# Total number of purchases\n",
    "purchase_count = len(purchase_data[\"Purchase ID\"].unique())\n",
    "print(\"Total number of purchases: \", purchase_count)"
   ]
  },
  {
   "cell_type": "code",
   "execution_count": 156,
   "metadata": {},
   "outputs": [
    {
     "name": "stdout",
     "output_type": "stream",
     "text": [
      "Total amount of revenue: $2379.77\n"
     ]
    }
   ],
   "source": [
    "# Total amount of revenue\n",
    "total_rev = purchase_data[\"Price\"].sum()\n",
    "print(\"Total amount of revenue: \" '${}'.format(total_rev))"
   ]
  },
  {
   "cell_type": "code",
   "execution_count": 157,
   "metadata": {},
   "outputs": [],
   "source": [
    "# GENDER DEMOGRAPHICS\n",
    "# drop duplicate names to get correct gender count\n",
    "dup_drop = purchase_data.drop_duplicates(['SN'], keep='last')"
   ]
  },
  {
   "cell_type": "code",
   "execution_count": 158,
   "metadata": {},
   "outputs": [
    {
     "data": {
      "text/plain": [
       "Male                     484\n",
       "Female                    81\n",
       "Other / Non-Disclosed     11\n",
       "Name: Gender, dtype: int64"
      ]
     },
     "execution_count": 158,
     "metadata": {},
     "output_type": "execute_result"
    }
   ],
   "source": [
    "# Total Count of Male/Female/Non-Disclosed Players\n",
    "gender_tot = dup_drop[\"Gender\"].value_counts()\n",
    "gender_tot"
   ]
  },
  {
   "cell_type": "code",
   "execution_count": 159,
   "metadata": {},
   "outputs": [],
   "source": [
    "# Get the total count of players\n",
    "player_tot = dup_drop[\"SN\"].count()"
   ]
  },
  {
   "cell_type": "code",
   "execution_count": 160,
   "metadata": {},
   "outputs": [
    {
     "data": {
      "text/plain": [
       "Male                     84.03\n",
       "Female                   14.06\n",
       "Other / Non-Disclosed     1.91\n",
       "Name: Gender, dtype: float64"
      ]
     },
     "execution_count": 160,
     "metadata": {},
     "output_type": "execute_result"
    }
   ],
   "source": [
    "# Get the perentage of each gender\n",
    "vest_per = gender_tot / player_tot * 100\n",
    "rounded_1 = round(vest_per, 2)\n",
    "rounded_1\n",
    "# print(\"The total amount of revenue: \" '${}'.format(total_rev))"
   ]
  },
  {
   "cell_type": "code",
   "execution_count": 161,
   "metadata": {
    "scrolled": true
   },
   "outputs": [],
   "source": [
    "# Purchase count by gender \n",
    "gender_purch_ct = dup_drop.groupby('Gender')[['Price']].count()\n",
    "# Rename the column\n",
    "renamed_df = gender_purch_ct.rename(columns={\"Price\":\"Purchase Count\"})"
   ]
  },
  {
   "cell_type": "code",
   "execution_count": 162,
   "metadata": {
    "scrolled": true
   },
   "outputs": [],
   "source": [
    "# Get the average of price by gender\n",
    "average_gender_price = dup_drop.groupby('Gender')[['Price']].mean()"
   ]
  },
  {
   "cell_type": "code",
   "execution_count": 163,
   "metadata": {},
   "outputs": [],
   "source": [
    "# Total purchase value by gender\n",
    "total_purchase_value = dup_drop.groupby('Gender')[['Price']].sum()"
   ]
  },
  {
   "cell_type": "code",
   "execution_count": 164,
   "metadata": {},
   "outputs": [],
   "source": [
    "# Normalized totals\n",
    "# norm_tot = renamed_df2.div(renamed_df2.sum(axis=1), axis=0)\n",
    "df_norm1 = (total_price - total_price.mean()) / (total_price.max() - total_price.min())"
   ]
  },
  {
   "cell_type": "code",
   "execution_count": 165,
   "metadata": {},
   "outputs": [
    {
     "data": {
      "text/html": [
       "<div>\n",
       "<style scoped>\n",
       "    .dataframe tbody tr th:only-of-type {\n",
       "        vertical-align: middle;\n",
       "    }\n",
       "\n",
       "    .dataframe tbody tr th {\n",
       "        vertical-align: top;\n",
       "    }\n",
       "\n",
       "    .dataframe thead th {\n",
       "        text-align: right;\n",
       "    }\n",
       "</style>\n",
       "<table border=\"1\" class=\"dataframe\">\n",
       "  <thead>\n",
       "    <tr style=\"text-align: right;\">\n",
       "      <th></th>\n",
       "      <th>Purchase Count</th>\n",
       "      <th>Average Purchase Price</th>\n",
       "      <th>Total Purchase Value</th>\n",
       "      <th>Normalized Totals</th>\n",
       "    </tr>\n",
       "    <tr>\n",
       "      <th>Gender</th>\n",
       "      <th></th>\n",
       "      <th></th>\n",
       "      <th></th>\n",
       "      <th></th>\n",
       "    </tr>\n",
       "  </thead>\n",
       "  <tbody>\n",
       "    <tr>\n",
       "      <th>Female</th>\n",
       "      <td>81</td>\n",
       "      <td>$3.25</td>\n",
       "      <td>$263.36</td>\n",
       "      <td>NaN</td>\n",
       "    </tr>\n",
       "    <tr>\n",
       "      <th>Male</th>\n",
       "      <td>484</td>\n",
       "      <td>$2.98</td>\n",
       "      <td>$1440.40</td>\n",
       "      <td>NaN</td>\n",
       "    </tr>\n",
       "    <tr>\n",
       "      <th>Other / Non-Disclosed</th>\n",
       "      <td>11</td>\n",
       "      <td>$3.29</td>\n",
       "      <td>$36.15</td>\n",
       "      <td>NaN</td>\n",
       "    </tr>\n",
       "  </tbody>\n",
       "</table>\n",
       "</div>"
      ],
      "text/plain": [
       "                       Purchase Count Average Purchase Price  \\\n",
       "Gender                                                         \n",
       "Female                             81                  $3.25   \n",
       "Male                              484                  $2.98   \n",
       "Other / Non-Disclosed              11                  $3.29   \n",
       "\n",
       "                      Total Purchase Value  Normalized Totals  \n",
       "Gender                                                         \n",
       "Female                             $263.36                NaN  \n",
       "Male                              $1440.40                NaN  \n",
       "Other / Non-Disclosed               $36.15                NaN  "
      ]
     },
     "execution_count": 165,
     "metadata": {},
     "output_type": "execute_result"
    }
   ],
   "source": [
    "# Put gender info in one table\n",
    "# Ask about 'normalized totals'\n",
    "renamed_df[\"Average Purchase Price\"] = average_gender_price\n",
    "renamed_df[\"Total Purchase Value\"] = total_purchase_value\n",
    "renamed_df[\"Normalized Totals\"] = df_norm1\n",
    "renamed_df[\"Total Purchase Value\"] = renamed_df[\"Total Purchase Value\"].map(\"${:.2f}\".format)\n",
    "renamed_df[\"Average Purchase Price\"] = renamed_df[\"Average Purchase Price\"].map(\"${:.2f}\".format)\n",
    "renamed_df"
   ]
  },
  {
   "cell_type": "code",
   "execution_count": 166,
   "metadata": {},
   "outputs": [],
   "source": [
    "# AGE DEMOGRAPHICS\n",
    "# Create bins in which to place values based upon age\n",
    "bins = [0, 10, 14, 18, 22, 26, 30, 34, 38, 42, 46]\n",
    "age_labels = ['0 to 11', '11 to 15', '14 to 18', '18 to 22', '22 to 26', '26 to 30', '30 to 34', '34 to 38', '38 to 42', '42 to 46']"
   ]
  },
  {
   "cell_type": "code",
   "execution_count": 167,
   "metadata": {},
   "outputs": [
    {
     "data": {
      "text/plain": [
       "1    38 to 42\n",
       "2    22 to 26\n",
       "3    22 to 26\n",
       "4    22 to 26\n",
       "6    34 to 38\n",
       "Name: Age, dtype: category\n",
       "Categories (10, object): [0 to 11 < 11 to 15 < 14 to 18 < 18 to 22 ... 30 to 34 < 34 to 38 < 38 to 42 < 42 to 46]"
      ]
     },
     "execution_count": 167,
     "metadata": {},
     "output_type": "execute_result"
    }
   ],
   "source": [
    "# Place data into bins\n",
    "pd.cut(dup_drop[\"Age\"], bins, labels=age_labels).head()"
   ]
  },
  {
   "cell_type": "code",
   "execution_count": 168,
   "metadata": {},
   "outputs": [
    {
     "name": "stderr",
     "output_type": "stream",
     "text": [
      "C:\\Users\\Owner\\Anaconda3\\lib\\site-packages\\ipykernel_launcher.py:2: SettingWithCopyWarning: \n",
      "A value is trying to be set on a copy of a slice from a DataFrame.\n",
      "Try using .loc[row_indexer,col_indexer] = value instead\n",
      "\n",
      "See the caveats in the documentation: http://pandas.pydata.org/pandas-docs/stable/indexing.html#indexing-view-versus-copy\n",
      "  \n"
     ]
    }
   ],
   "source": [
    "# Add bins into new column\n",
    "dup_drop[\"Age Group\"] = pd.cut(dup_drop[\"Age\"], bins, labels=age_labels)"
   ]
  },
  {
   "cell_type": "code",
   "execution_count": 169,
   "metadata": {},
   "outputs": [],
   "source": [
    "# Create a GroupBy object based upon \"Age Group\"\n",
    "age_group = dup_drop.groupby(\"Age Group\")\n",
    "\n",
    "# Place price count into correct bins to get \"purchase count\"\n",
    "purch_count = age_group[[\"Price\"]].count()\n",
    "renamed_df3 = purch_count.rename(columns={\"Price\":\"Purchase Count\"})\n"
   ]
  },
  {
   "cell_type": "code",
   "execution_count": 170,
   "metadata": {},
   "outputs": [],
   "source": [
    "# Get the average purchase price within the GroupBy object\n",
    "av_purch_price = age_group[[\"Price\"]].mean()\n",
    "# renamed_df4 = av_purch_price.rename(columns={\"Price\":\"Average Purchase Price\"})\n",
    "# Rename the column\n",
    "# renamed_df4[\"Average Purchase Price\"] = renamed_df4[\"Average Purchase Price\"].map(\"${:.2f}\".format)"
   ]
  },
  {
   "cell_type": "code",
   "execution_count": 171,
   "metadata": {},
   "outputs": [],
   "source": [
    "# Total purchase value by age group\n",
    "total_price = age_group[[\"Price\"]].sum()\n",
    "# renamed_df5 = total_price.rename(columns={\"Price\":\"Total Purchase Amount\"})\n",
    "# Rename the column\n",
    "# renamed_df5[\"Total Purchase Amount\"] = renamed_df5[\"Total Purchase Amount\"].map(\"${:.2f}\".format)"
   ]
  },
  {
   "cell_type": "code",
   "execution_count": 172,
   "metadata": {},
   "outputs": [],
   "source": [
    "# Normalize the total\n",
    "# purchase_data.div(purchase_data.sum(axis=1), axis=0)\n",
    "df_norm = (total_price - total_price.mean()) / (total_price.max() - total_price.min())"
   ]
  },
  {
   "cell_type": "code",
   "execution_count": 173,
   "metadata": {},
   "outputs": [
    {
     "data": {
      "text/html": [
       "<div>\n",
       "<style scoped>\n",
       "    .dataframe tbody tr th:only-of-type {\n",
       "        vertical-align: middle;\n",
       "    }\n",
       "\n",
       "    .dataframe tbody tr th {\n",
       "        vertical-align: top;\n",
       "    }\n",
       "\n",
       "    .dataframe thead th {\n",
       "        text-align: right;\n",
       "    }\n",
       "</style>\n",
       "<table border=\"1\" class=\"dataframe\">\n",
       "  <thead>\n",
       "    <tr style=\"text-align: right;\">\n",
       "      <th></th>\n",
       "      <th>Purchase Count</th>\n",
       "      <th>Average Purchase Price</th>\n",
       "      <th>Total Purchase Value</th>\n",
       "      <th>Normalized Totals</th>\n",
       "    </tr>\n",
       "    <tr>\n",
       "      <th>Age Group</th>\n",
       "      <th></th>\n",
       "      <th></th>\n",
       "      <th></th>\n",
       "      <th></th>\n",
       "    </tr>\n",
       "  </thead>\n",
       "  <tbody>\n",
       "    <tr>\n",
       "      <th>0 to 11</th>\n",
       "      <td>24</td>\n",
       "      <td>$3.56</td>\n",
       "      <td>$85.37</td>\n",
       "      <td>-0.172053</td>\n",
       "    </tr>\n",
       "    <tr>\n",
       "      <th>11 to 15</th>\n",
       "      <td>15</td>\n",
       "      <td>$2.75</td>\n",
       "      <td>$41.31</td>\n",
       "      <td>-0.257593</td>\n",
       "    </tr>\n",
       "    <tr>\n",
       "      <th>14 to 18</th>\n",
       "      <td>90</td>\n",
       "      <td>$3.08</td>\n",
       "      <td>$277.50</td>\n",
       "      <td>0.200957</td>\n",
       "    </tr>\n",
       "    <tr>\n",
       "      <th>18 to 22</th>\n",
       "      <td>178</td>\n",
       "      <td>$2.96</td>\n",
       "      <td>$526.14</td>\n",
       "      <td>0.683678</td>\n",
       "    </tr>\n",
       "    <tr>\n",
       "      <th>22 to 26</th>\n",
       "      <td>151</td>\n",
       "      <td>$3.01</td>\n",
       "      <td>$454.62</td>\n",
       "      <td>0.544826</td>\n",
       "    </tr>\n",
       "    <tr>\n",
       "      <th>26 to 30</th>\n",
       "      <td>48</td>\n",
       "      <td>$2.81</td>\n",
       "      <td>$134.93</td>\n",
       "      <td>-0.075835</td>\n",
       "    </tr>\n",
       "    <tr>\n",
       "      <th>30 to 34</th>\n",
       "      <td>27</td>\n",
       "      <td>$2.73</td>\n",
       "      <td>$73.59</td>\n",
       "      <td>-0.194923</td>\n",
       "    </tr>\n",
       "    <tr>\n",
       "      <th>34 to 38</th>\n",
       "      <td>25</td>\n",
       "      <td>$3.53</td>\n",
       "      <td>$88.29</td>\n",
       "      <td>-0.166384</td>\n",
       "    </tr>\n",
       "    <tr>\n",
       "      <th>38 to 42</th>\n",
       "      <td>14</td>\n",
       "      <td>$3.36</td>\n",
       "      <td>$47.10</td>\n",
       "      <td>-0.246352</td>\n",
       "    </tr>\n",
       "    <tr>\n",
       "      <th>42 to 46</th>\n",
       "      <td>4</td>\n",
       "      <td>$2.77</td>\n",
       "      <td>$11.06</td>\n",
       "      <td>-0.316322</td>\n",
       "    </tr>\n",
       "  </tbody>\n",
       "</table>\n",
       "</div>"
      ],
      "text/plain": [
       "           Purchase Count Average Purchase Price Total Purchase Value  \\\n",
       "Age Group                                                               \n",
       "0 to 11                24                  $3.56               $85.37   \n",
       "11 to 15               15                  $2.75               $41.31   \n",
       "14 to 18               90                  $3.08              $277.50   \n",
       "18 to 22              178                  $2.96              $526.14   \n",
       "22 to 26              151                  $3.01              $454.62   \n",
       "26 to 30               48                  $2.81              $134.93   \n",
       "30 to 34               27                  $2.73               $73.59   \n",
       "34 to 38               25                  $3.53               $88.29   \n",
       "38 to 42               14                  $3.36               $47.10   \n",
       "42 to 46                4                  $2.77               $11.06   \n",
       "\n",
       "           Normalized Totals  \n",
       "Age Group                     \n",
       "0 to 11            -0.172053  \n",
       "11 to 15           -0.257593  \n",
       "14 to 18            0.200957  \n",
       "18 to 22            0.683678  \n",
       "22 to 26            0.544826  \n",
       "26 to 30           -0.075835  \n",
       "30 to 34           -0.194923  \n",
       "34 to 38           -0.166384  \n",
       "38 to 42           -0.246352  \n",
       "42 to 46           -0.316322  "
      ]
     },
     "execution_count": 173,
     "metadata": {},
     "output_type": "execute_result"
    }
   ],
   "source": [
    "renamed_df3[\"Average Purchase Price\"] = av_purch_price\n",
    "renamed_df3[\"Total Purchase Value\"] = total_price\n",
    "renamed_df3[\"Normalized Totals\"] = df_norm\n",
    "renamed_df3[\"Total Purchase Value\"] = renamed_df3[\"Total Purchase Value\"].map(\"${:.2f}\".format)\n",
    "renamed_df3[\"Average Purchase Price\"] = renamed_df3[\"Average Purchase Price\"].map(\"${:.2f}\".format)\n",
    "# data0 = renamed_df3.reset_index(drop=True)\n",
    "renamed_df3"
   ]
  },
  {
   "cell_type": "code",
   "execution_count": 174,
   "metadata": {},
   "outputs": [],
   "source": [
    "# TOP 5 SPENDERS\n",
    "# Set the players to the index\n",
    "sn_index = purchase_data.set_index(\"SN\", drop = False)"
   ]
  },
  {
   "cell_type": "code",
   "execution_count": 175,
   "metadata": {},
   "outputs": [
    {
     "name": "stderr",
     "output_type": "stream",
     "text": [
      "C:\\Users\\Owner\\Anaconda3\\lib\\site-packages\\ipykernel_launcher.py:2: FutureWarning: 'SN' is both a column name and an index level.\n",
      "Defaulting to column but this will raise an ambiguity error in a future version\n",
      "  \n"
     ]
    }
   ],
   "source": [
    "# Get the total purchase value of each player\n",
    "table3 = sn_index.groupby(\"SN\")[[\"Price\"]].sum()"
   ]
  },
  {
   "cell_type": "code",
   "execution_count": 176,
   "metadata": {},
   "outputs": [],
   "source": [
    "# Get the top 5 spenders based on highest purchase total\n",
    "top_ct = table3.nlargest(5, 'Price')"
   ]
  },
  {
   "cell_type": "code",
   "execution_count": 177,
   "metadata": {},
   "outputs": [],
   "source": [
    "# Grab top spenders' data using .loc\n",
    "top_spenders = sn_index.loc[[\"Lisosia93\", \"Idastidru52\", \"Chamjask73\",\n",
    "                               \"Iral74\", \"Iskadarya95\"], [\"SN\", \"Item Name\", \"Price\"]]\n",
    "\n",
    "# Delete duplicates\n",
    "data7 = top_spenders.drop_duplicates(['SN'], keep='last')"
   ]
  },
  {
   "cell_type": "code",
   "execution_count": 178,
   "metadata": {},
   "outputs": [
    {
     "name": "stderr",
     "output_type": "stream",
     "text": [
      "C:\\Users\\Owner\\Anaconda3\\lib\\site-packages\\ipykernel_launcher.py:2: FutureWarning: 'SN' is both a column name and an index level.\n",
      "Defaulting to column but this will raise an ambiguity error in a future version\n",
      "  \n"
     ]
    }
   ],
   "source": [
    "# Purchase count of top spenders\n",
    "top_purch_ct = top_spenders.groupby('SN')['Item Name'].count()"
   ]
  },
  {
   "cell_type": "code",
   "execution_count": 179,
   "metadata": {},
   "outputs": [
    {
     "name": "stderr",
     "output_type": "stream",
     "text": [
      "C:\\Users\\Owner\\Anaconda3\\lib\\site-packages\\ipykernel_launcher.py:2: FutureWarning: 'SN' is both a column name and an index level.\n",
      "Defaulting to column but this will raise an ambiguity error in a future version\n",
      "  \n"
     ]
    }
   ],
   "source": [
    "# Get the average purchase price of top spenders\n",
    "top_av_price = top_spenders.groupby('SN')['Price'].mean()"
   ]
  },
  {
   "cell_type": "code",
   "execution_count": 180,
   "metadata": {},
   "outputs": [
    {
     "name": "stderr",
     "output_type": "stream",
     "text": [
      "C:\\Users\\Owner\\Anaconda3\\lib\\site-packages\\ipykernel_launcher.py:2: FutureWarning: 'SN' is both a column name and an index level.\n",
      "Defaulting to column but this will raise an ambiguity error in a future version\n",
      "  \n"
     ]
    }
   ],
   "source": [
    "# Top 5 spenders' total purchase value\n",
    "tot_purch_value = top_spenders.groupby('SN')['Price'].sum()"
   ]
  },
  {
   "cell_type": "code",
   "execution_count": 181,
   "metadata": {},
   "outputs": [
    {
     "name": "stderr",
     "output_type": "stream",
     "text": [
      "C:\\Users\\Owner\\Anaconda3\\lib\\site-packages\\ipykernel_launcher.py:2: SettingWithCopyWarning: \n",
      "A value is trying to be set on a copy of a slice from a DataFrame.\n",
      "Try using .loc[row_indexer,col_indexer] = value instead\n",
      "\n",
      "See the caveats in the documentation: http://pandas.pydata.org/pandas-docs/stable/indexing.html#indexing-view-versus-copy\n",
      "  \n",
      "C:\\Users\\Owner\\Anaconda3\\lib\\site-packages\\ipykernel_launcher.py:3: SettingWithCopyWarning: \n",
      "A value is trying to be set on a copy of a slice from a DataFrame.\n",
      "Try using .loc[row_indexer,col_indexer] = value instead\n",
      "\n",
      "See the caveats in the documentation: http://pandas.pydata.org/pandas-docs/stable/indexing.html#indexing-view-versus-copy\n",
      "  This is separate from the ipykernel package so we can avoid doing imports until\n",
      "C:\\Users\\Owner\\Anaconda3\\lib\\site-packages\\ipykernel_launcher.py:4: SettingWithCopyWarning: \n",
      "A value is trying to be set on a copy of a slice from a DataFrame.\n",
      "Try using .loc[row_indexer,col_indexer] = value instead\n",
      "\n",
      "See the caveats in the documentation: http://pandas.pydata.org/pandas-docs/stable/indexing.html#indexing-view-versus-copy\n",
      "  after removing the cwd from sys.path.\n",
      "C:\\Users\\Owner\\Anaconda3\\lib\\site-packages\\ipykernel_launcher.py:5: SettingWithCopyWarning: \n",
      "A value is trying to be set on a copy of a slice from a DataFrame.\n",
      "Try using .loc[row_indexer,col_indexer] = value instead\n",
      "\n",
      "See the caveats in the documentation: http://pandas.pydata.org/pandas-docs/stable/indexing.html#indexing-view-versus-copy\n",
      "  \"\"\"\n",
      "C:\\Users\\Owner\\Anaconda3\\lib\\site-packages\\ipykernel_launcher.py:6: SettingWithCopyWarning: \n",
      "A value is trying to be set on a copy of a slice from a DataFrame.\n",
      "Try using .loc[row_indexer,col_indexer] = value instead\n",
      "\n",
      "See the caveats in the documentation: http://pandas.pydata.org/pandas-docs/stable/indexing.html#indexing-view-versus-copy\n",
      "  \n"
     ]
    },
    {
     "data": {
      "text/html": [
       "<div>\n",
       "<style scoped>\n",
       "    .dataframe tbody tr th:only-of-type {\n",
       "        vertical-align: middle;\n",
       "    }\n",
       "\n",
       "    .dataframe tbody tr th {\n",
       "        vertical-align: top;\n",
       "    }\n",
       "\n",
       "    .dataframe thead th {\n",
       "        text-align: right;\n",
       "    }\n",
       "</style>\n",
       "<table border=\"1\" class=\"dataframe\">\n",
       "  <thead>\n",
       "    <tr style=\"text-align: right;\">\n",
       "      <th></th>\n",
       "      <th>SN</th>\n",
       "      <th>Total Purchase Value</th>\n",
       "      <th>Purchase Count</th>\n",
       "      <th>Average Purchase Price</th>\n",
       "    </tr>\n",
       "  </thead>\n",
       "  <tbody>\n",
       "    <tr>\n",
       "      <th>0</th>\n",
       "      <td>Lisosia93</td>\n",
       "      <td>$18.96</td>\n",
       "      <td>5</td>\n",
       "      <td>$3.79</td>\n",
       "    </tr>\n",
       "    <tr>\n",
       "      <th>1</th>\n",
       "      <td>Idastidru52</td>\n",
       "      <td>$15.45</td>\n",
       "      <td>4</td>\n",
       "      <td>$3.86</td>\n",
       "    </tr>\n",
       "    <tr>\n",
       "      <th>2</th>\n",
       "      <td>Chamjask73</td>\n",
       "      <td>$13.83</td>\n",
       "      <td>3</td>\n",
       "      <td>$4.61</td>\n",
       "    </tr>\n",
       "    <tr>\n",
       "      <th>3</th>\n",
       "      <td>Iral74</td>\n",
       "      <td>$13.62</td>\n",
       "      <td>4</td>\n",
       "      <td>$3.40</td>\n",
       "    </tr>\n",
       "    <tr>\n",
       "      <th>4</th>\n",
       "      <td>Iskadarya95</td>\n",
       "      <td>$13.10</td>\n",
       "      <td>3</td>\n",
       "      <td>$4.37</td>\n",
       "    </tr>\n",
       "  </tbody>\n",
       "</table>\n",
       "</div>"
      ],
      "text/plain": [
       "            SN Total Purchase Value  Purchase Count Average Purchase Price\n",
       "0    Lisosia93               $18.96               5                  $3.79\n",
       "1  Idastidru52               $15.45               4                  $3.86\n",
       "2   Chamjask73               $13.83               3                  $4.61\n",
       "3       Iral74               $13.62               4                  $3.40\n",
       "4  Iskadarya95               $13.10               3                  $4.37"
      ]
     },
     "execution_count": 181,
     "metadata": {},
     "output_type": "execute_result"
    }
   ],
   "source": [
    "# Put data of top spenders into one table\n",
    "data7[\"Total Purchase Value\"] = tot_purch_value\n",
    "data7[\"Purchase Count\"] = top_purch_ct\n",
    "data7[\"Average Purchase Price\"] = top_av_price\n",
    "data7[\"Total Purchase Value\"] = data7[\"Total Purchase Value\"].map(\"${:.2f}\".format)\n",
    "data7[\"Average Purchase Price\"] = data7[\"Average Purchase Price\"].map(\"${:.2f}\".format)\n",
    "data2 = data7.reset_index(drop=True)\n",
    "\n",
    "# Delete extraneous column\n",
    "del data2['Price']\n",
    "del data2['Item Name']\n",
    "data2"
   ]
  },
  {
   "cell_type": "code",
   "execution_count": 182,
   "metadata": {},
   "outputs": [],
   "source": [
    "#TOP 5 POPULAR ITEMS\n",
    "# Top 5 most popular items based on purchase count\n",
    "# Set item name to index\n",
    "sn_index2 = sn_index.set_index(\"Item Name\", drop = False)"
   ]
  },
  {
   "cell_type": "code",
   "execution_count": 183,
   "metadata": {},
   "outputs": [
    {
     "name": "stderr",
     "output_type": "stream",
     "text": [
      "C:\\Users\\Owner\\Anaconda3\\lib\\site-packages\\ipykernel_launcher.py:2: FutureWarning: 'Item Name' is both a column name and an index level.\n",
      "Defaulting to column but this will raise an ambiguity error in a future version\n",
      "  \n"
     ]
    }
   ],
   "source": [
    "# Use .groupby to get purchase count of items\n",
    "sn_group = sn_index2.groupby(\"Item Name\")\n",
    "table4 = sn_group[[\"Item Name\"]].count()"
   ]
  },
  {
   "cell_type": "code",
   "execution_count": 184,
   "metadata": {},
   "outputs": [
    {
     "data": {
      "text/html": [
       "<div>\n",
       "<style scoped>\n",
       "    .dataframe tbody tr th:only-of-type {\n",
       "        vertical-align: middle;\n",
       "    }\n",
       "\n",
       "    .dataframe tbody tr th {\n",
       "        vertical-align: top;\n",
       "    }\n",
       "\n",
       "    .dataframe thead th {\n",
       "        text-align: right;\n",
       "    }\n",
       "</style>\n",
       "<table border=\"1\" class=\"dataframe\">\n",
       "  <thead>\n",
       "    <tr style=\"text-align: right;\">\n",
       "      <th></th>\n",
       "      <th>Purchase Count</th>\n",
       "    </tr>\n",
       "    <tr>\n",
       "      <th>Top Items</th>\n",
       "      <th></th>\n",
       "    </tr>\n",
       "  </thead>\n",
       "  <tbody>\n",
       "    <tr>\n",
       "      <th>Final Critic</th>\n",
       "      <td>13</td>\n",
       "    </tr>\n",
       "    <tr>\n",
       "      <th>Oathbreaker, Last Hope of the Breaking Storm</th>\n",
       "      <td>12</td>\n",
       "    </tr>\n",
       "    <tr>\n",
       "      <th>Extraction, Quickblade Of Trembling Hands</th>\n",
       "      <td>9</td>\n",
       "    </tr>\n",
       "    <tr>\n",
       "      <th>Fiery Glass Crusader</th>\n",
       "      <td>9</td>\n",
       "    </tr>\n",
       "    <tr>\n",
       "      <th>Nirvana</th>\n",
       "      <td>9</td>\n",
       "    </tr>\n",
       "  </tbody>\n",
       "</table>\n",
       "</div>"
      ],
      "text/plain": [
       "                                              Purchase Count\n",
       "Top Items                                                   \n",
       "Final Critic                                              13\n",
       "Oathbreaker, Last Hope of the Breaking Storm              12\n",
       "Extraction, Quickblade Of Trembling Hands                  9\n",
       "Fiery Glass Crusader                                       9\n",
       "Nirvana                                                    9"
      ]
     },
     "execution_count": 184,
     "metadata": {},
     "output_type": "execute_result"
    }
   ],
   "source": [
    "# Grab top 5 most popular items based on purchase count\n",
    "top_ct = table4.nlargest(5, 'Item Name')\n",
    "\n",
    "top_ct.index.names = ['Top Items']\n",
    "top_ct.rename(columns={\"Item Name\":\"Purchase Count\"})"
   ]
  },
  {
   "cell_type": "code",
   "execution_count": 185,
   "metadata": {},
   "outputs": [],
   "source": [
    "# Grab data of the top 5 most popular items using .loc\n",
    "top_items = sn_index2.loc[[\"Final Critic\", \"Oathbreaker, Last Hope of the Breaking Storm\", \n",
    "                           \"Extraction, Quickblade Of Trembling Hands\",\n",
    "                               \"Fiery Glass Crusader\", \"Nirvana\"], [\"Item ID\", \"Item Name\", \"Price\",]]\n",
    "\n",
    "data = top_items.drop_duplicates(['Item Name'], keep='last')"
   ]
  },
  {
   "cell_type": "code",
   "execution_count": 186,
   "metadata": {},
   "outputs": [
    {
     "name": "stderr",
     "output_type": "stream",
     "text": [
      "C:\\Users\\Owner\\Anaconda3\\lib\\site-packages\\ipykernel_launcher.py:2: FutureWarning: 'Item Name' is both a column name and an index level.\n",
      "Defaulting to column but this will raise an ambiguity error in a future version\n",
      "  \n"
     ]
    }
   ],
   "source": [
    "# Get top items' purchase count\n",
    "sn_group1 = top_items.groupby(\"Item Name\")[\"Item Name\"].count()"
   ]
  },
  {
   "cell_type": "code",
   "execution_count": 187,
   "metadata": {},
   "outputs": [
    {
     "name": "stderr",
     "output_type": "stream",
     "text": [
      "C:\\Users\\Owner\\Anaconda3\\lib\\site-packages\\ipykernel_launcher.py:2: FutureWarning: 'Item Name' is both a column name and an index level.\n",
      "Defaulting to column but this will raise an ambiguity error in a future version\n",
      "  \n"
     ]
    }
   ],
   "source": [
    "# Get the total purchase value of top 5 items\n",
    "top_value1 = top_items.groupby('Item Name')['Price'].sum()"
   ]
  },
  {
   "cell_type": "code",
   "execution_count": 188,
   "metadata": {},
   "outputs": [
    {
     "name": "stderr",
     "output_type": "stream",
     "text": [
      "C:\\Users\\Owner\\Anaconda3\\lib\\site-packages\\ipykernel_launcher.py:2: SettingWithCopyWarning: \n",
      "A value is trying to be set on a copy of a slice from a DataFrame.\n",
      "Try using .loc[row_indexer,col_indexer] = value instead\n",
      "\n",
      "See the caveats in the documentation: http://pandas.pydata.org/pandas-docs/stable/indexing.html#indexing-view-versus-copy\n",
      "  \n",
      "C:\\Users\\Owner\\Anaconda3\\lib\\site-packages\\ipykernel_launcher.py:3: SettingWithCopyWarning: \n",
      "A value is trying to be set on a copy of a slice from a DataFrame.\n",
      "Try using .loc[row_indexer,col_indexer] = value instead\n",
      "\n",
      "See the caveats in the documentation: http://pandas.pydata.org/pandas-docs/stable/indexing.html#indexing-view-versus-copy\n",
      "  This is separate from the ipykernel package so we can avoid doing imports until\n",
      "C:\\Users\\Owner\\Anaconda3\\lib\\site-packages\\ipykernel_launcher.py:4: SettingWithCopyWarning: \n",
      "A value is trying to be set on a copy of a slice from a DataFrame.\n",
      "Try using .loc[row_indexer,col_indexer] = value instead\n",
      "\n",
      "See the caveats in the documentation: http://pandas.pydata.org/pandas-docs/stable/indexing.html#indexing-view-versus-copy\n",
      "  after removing the cwd from sys.path.\n",
      "C:\\Users\\Owner\\Anaconda3\\lib\\site-packages\\ipykernel_launcher.py:5: SettingWithCopyWarning: \n",
      "A value is trying to be set on a copy of a slice from a DataFrame.\n",
      "Try using .loc[row_indexer,col_indexer] = value instead\n",
      "\n",
      "See the caveats in the documentation: http://pandas.pydata.org/pandas-docs/stable/indexing.html#indexing-view-versus-copy\n",
      "  \"\"\"\n"
     ]
    },
    {
     "data": {
      "text/html": [
       "<div>\n",
       "<style scoped>\n",
       "    .dataframe tbody tr th:only-of-type {\n",
       "        vertical-align: middle;\n",
       "    }\n",
       "\n",
       "    .dataframe tbody tr th {\n",
       "        vertical-align: top;\n",
       "    }\n",
       "\n",
       "    .dataframe thead th {\n",
       "        text-align: right;\n",
       "    }\n",
       "</style>\n",
       "<table border=\"1\" class=\"dataframe\">\n",
       "  <thead>\n",
       "    <tr style=\"text-align: right;\">\n",
       "      <th></th>\n",
       "      <th>Item ID</th>\n",
       "      <th>Item Name</th>\n",
       "      <th>Item Price</th>\n",
       "      <th>Total Purchase Amount</th>\n",
       "      <th>Purchase Count</th>\n",
       "    </tr>\n",
       "  </thead>\n",
       "  <tbody>\n",
       "    <tr>\n",
       "      <th>0</th>\n",
       "      <td>101</td>\n",
       "      <td>Final Critic</td>\n",
       "      <td>$4.19</td>\n",
       "      <td>$59.99</td>\n",
       "      <td>13</td>\n",
       "    </tr>\n",
       "    <tr>\n",
       "      <th>1</th>\n",
       "      <td>178</td>\n",
       "      <td>Oathbreaker, Last Hope of the Breaking Storm</td>\n",
       "      <td>$4.23</td>\n",
       "      <td>$50.76</td>\n",
       "      <td>12</td>\n",
       "    </tr>\n",
       "    <tr>\n",
       "      <th>2</th>\n",
       "      <td>108</td>\n",
       "      <td>Extraction, Quickblade Of Trembling Hands</td>\n",
       "      <td>$3.53</td>\n",
       "      <td>$31.77</td>\n",
       "      <td>9</td>\n",
       "    </tr>\n",
       "    <tr>\n",
       "      <th>3</th>\n",
       "      <td>145</td>\n",
       "      <td>Fiery Glass Crusader</td>\n",
       "      <td>$4.58</td>\n",
       "      <td>$41.22</td>\n",
       "      <td>9</td>\n",
       "    </tr>\n",
       "    <tr>\n",
       "      <th>4</th>\n",
       "      <td>82</td>\n",
       "      <td>Nirvana</td>\n",
       "      <td>$4.90</td>\n",
       "      <td>$44.10</td>\n",
       "      <td>9</td>\n",
       "    </tr>\n",
       "  </tbody>\n",
       "</table>\n",
       "</div>"
      ],
      "text/plain": [
       "   Item ID                                     Item Name Item Price  \\\n",
       "0      101                                  Final Critic      $4.19   \n",
       "1      178  Oathbreaker, Last Hope of the Breaking Storm      $4.23   \n",
       "2      108     Extraction, Quickblade Of Trembling Hands      $3.53   \n",
       "3      145                          Fiery Glass Crusader      $4.58   \n",
       "4       82                                       Nirvana      $4.90   \n",
       "\n",
       "  Total Purchase Amount  Purchase Count  \n",
       "0                $59.99              13  \n",
       "1                $50.76              12  \n",
       "2                $31.77               9  \n",
       "3                $41.22               9  \n",
       "4                $44.10               9  "
      ]
     },
     "execution_count": 188,
     "metadata": {},
     "output_type": "execute_result"
    }
   ],
   "source": [
    "# Put data into one table along with 'price'\n",
    "data[\"Total Purchase Amount\"] = top_value1\n",
    "data[\"Purchase Count\"] = sn_group1\n",
    "data[\"Total Purchase Amount\"] = data[\"Total Purchase Amount\"].map(\"${:.2f}\".format)\n",
    "data[\"Price\"] = data[\"Price\"].map(\"${:.2f}\".format)\n",
    "data1 = data.rename(columns={\"Price\":\"Item Price\"})\n",
    "data2 = data1.reset_index(drop=True)\n",
    "data2"
   ]
  },
  {
   "cell_type": "code",
   "execution_count": 189,
   "metadata": {},
   "outputs": [
    {
     "name": "stderr",
     "output_type": "stream",
     "text": [
      "C:\\Users\\Owner\\Anaconda3\\lib\\site-packages\\ipykernel_launcher.py:4: FutureWarning: 'Item Name' is both a column name and an index level.\n",
      "Defaulting to column but this will raise an ambiguity error in a future version\n",
      "  after removing the cwd from sys.path.\n"
     ]
    }
   ],
   "source": [
    "# TOP 5 MOST PROFITABLE ITEMS\n",
    "# Find the top 5 most profitable items based on total purchase value\n",
    "# Get the total purchase value of each item\n",
    "top_profit = sn_index2.groupby('Item Name')[['Price']].sum()"
   ]
  },
  {
   "cell_type": "code",
   "execution_count": 190,
   "metadata": {},
   "outputs": [],
   "source": [
    "# Extract the top 5 selling items from the data above \n",
    "top_prof_item = top_profit.nlargest(5, 'Price')"
   ]
  },
  {
   "cell_type": "code",
   "execution_count": 191,
   "metadata": {},
   "outputs": [],
   "source": [
    "# Put all of the top items from the table into bins\n",
    "top_prof_items = sn_index2.loc[[\"Final Critic\", \"Oathbreaker, Last Hope of the Breaking Storm\", \n",
    "                           \"Nirvana\", \"Fiery Glass Crusader\", \"Singed Scalpel\"], \n",
    "                          [\"Item ID\", \"Item Name\", \"Price\"]]\n",
    "\n",
    "data3 = top_prof_items.drop_duplicates(['Item Name'], keep='last')"
   ]
  },
  {
   "cell_type": "code",
   "execution_count": 192,
   "metadata": {},
   "outputs": [
    {
     "name": "stderr",
     "output_type": "stream",
     "text": [
      "C:\\Users\\Owner\\Anaconda3\\lib\\site-packages\\ipykernel_launcher.py:2: FutureWarning: 'Item Name' is both a column name and an index level.\n",
      "Defaulting to column but this will raise an ambiguity error in a future version\n",
      "  \n"
     ]
    }
   ],
   "source": [
    "# Get the purchase count of top 5 most profitable items sold\n",
    "top_prof_ct = top_prof_items.groupby('Item Name')['Item Name'].count()"
   ]
  },
  {
   "cell_type": "code",
   "execution_count": 193,
   "metadata": {},
   "outputs": [
    {
     "name": "stderr",
     "output_type": "stream",
     "text": [
      "C:\\Users\\Owner\\Anaconda3\\lib\\site-packages\\ipykernel_launcher.py:2: FutureWarning: 'Item Name' is both a column name and an index level.\n",
      "Defaulting to column but this will raise an ambiguity error in a future version\n",
      "  \n"
     ]
    }
   ],
   "source": [
    "# Get the price of most profitable items\n",
    "sn_group1 = data3.groupby(\"Item Name\")[\"Price\"].value_counts()"
   ]
  },
  {
   "cell_type": "code",
   "execution_count": 194,
   "metadata": {},
   "outputs": [
    {
     "name": "stderr",
     "output_type": "stream",
     "text": [
      "C:\\Users\\Owner\\Anaconda3\\lib\\site-packages\\ipykernel_launcher.py:2: FutureWarning: 'Item Name' is both a column name and an index level.\n",
      "Defaulting to column but this will raise an ambiguity error in a future version\n",
      "  \n"
     ]
    }
   ],
   "source": [
    "# Get the total purchase value of top profitable items\n",
    "top_profit_it = top_prof_items.groupby('Item Name')['Price'].sum()"
   ]
  },
  {
   "cell_type": "code",
   "execution_count": 195,
   "metadata": {},
   "outputs": [
    {
     "name": "stderr",
     "output_type": "stream",
     "text": [
      "C:\\Users\\Owner\\Anaconda3\\lib\\site-packages\\ipykernel_launcher.py:2: SettingWithCopyWarning: \n",
      "A value is trying to be set on a copy of a slice from a DataFrame.\n",
      "Try using .loc[row_indexer,col_indexer] = value instead\n",
      "\n",
      "See the caveats in the documentation: http://pandas.pydata.org/pandas-docs/stable/indexing.html#indexing-view-versus-copy\n",
      "  \n",
      "C:\\Users\\Owner\\Anaconda3\\lib\\site-packages\\ipykernel_launcher.py:3: SettingWithCopyWarning: \n",
      "A value is trying to be set on a copy of a slice from a DataFrame.\n",
      "Try using .loc[row_indexer,col_indexer] = value instead\n",
      "\n",
      "See the caveats in the documentation: http://pandas.pydata.org/pandas-docs/stable/indexing.html#indexing-view-versus-copy\n",
      "  This is separate from the ipykernel package so we can avoid doing imports until\n",
      "C:\\Users\\Owner\\Anaconda3\\lib\\site-packages\\ipykernel_launcher.py:4: SettingWithCopyWarning: \n",
      "A value is trying to be set on a copy of a slice from a DataFrame.\n",
      "Try using .loc[row_indexer,col_indexer] = value instead\n",
      "\n",
      "See the caveats in the documentation: http://pandas.pydata.org/pandas-docs/stable/indexing.html#indexing-view-versus-copy\n",
      "  after removing the cwd from sys.path.\n",
      "C:\\Users\\Owner\\Anaconda3\\lib\\site-packages\\ipykernel_launcher.py:5: SettingWithCopyWarning: \n",
      "A value is trying to be set on a copy of a slice from a DataFrame.\n",
      "Try using .loc[row_indexer,col_indexer] = value instead\n",
      "\n",
      "See the caveats in the documentation: http://pandas.pydata.org/pandas-docs/stable/indexing.html#indexing-view-versus-copy\n",
      "  \"\"\"\n"
     ]
    },
    {
     "data": {
      "text/html": [
       "<div>\n",
       "<style scoped>\n",
       "    .dataframe tbody tr th:only-of-type {\n",
       "        vertical-align: middle;\n",
       "    }\n",
       "\n",
       "    .dataframe tbody tr th {\n",
       "        vertical-align: top;\n",
       "    }\n",
       "\n",
       "    .dataframe thead th {\n",
       "        text-align: right;\n",
       "    }\n",
       "</style>\n",
       "<table border=\"1\" class=\"dataframe\">\n",
       "  <thead>\n",
       "    <tr style=\"text-align: right;\">\n",
       "      <th></th>\n",
       "      <th>Item ID</th>\n",
       "      <th>Item Name</th>\n",
       "      <th>Price</th>\n",
       "      <th>Purchase Count</th>\n",
       "      <th>Total Purchase Value</th>\n",
       "    </tr>\n",
       "  </thead>\n",
       "  <tbody>\n",
       "    <tr>\n",
       "      <th>0</th>\n",
       "      <td>101</td>\n",
       "      <td>Final Critic</td>\n",
       "      <td>$4.19</td>\n",
       "      <td>13</td>\n",
       "      <td>$59.99</td>\n",
       "    </tr>\n",
       "    <tr>\n",
       "      <th>1</th>\n",
       "      <td>178</td>\n",
       "      <td>Oathbreaker, Last Hope of the Breaking Storm</td>\n",
       "      <td>$4.23</td>\n",
       "      <td>12</td>\n",
       "      <td>$50.76</td>\n",
       "    </tr>\n",
       "    <tr>\n",
       "      <th>2</th>\n",
       "      <td>82</td>\n",
       "      <td>Nirvana</td>\n",
       "      <td>$4.90</td>\n",
       "      <td>9</td>\n",
       "      <td>$44.10</td>\n",
       "    </tr>\n",
       "    <tr>\n",
       "      <th>3</th>\n",
       "      <td>145</td>\n",
       "      <td>Fiery Glass Crusader</td>\n",
       "      <td>$4.58</td>\n",
       "      <td>9</td>\n",
       "      <td>$41.22</td>\n",
       "    </tr>\n",
       "    <tr>\n",
       "      <th>4</th>\n",
       "      <td>103</td>\n",
       "      <td>Singed Scalpel</td>\n",
       "      <td>$4.35</td>\n",
       "      <td>8</td>\n",
       "      <td>$34.80</td>\n",
       "    </tr>\n",
       "  </tbody>\n",
       "</table>\n",
       "</div>"
      ],
      "text/plain": [
       "   Item ID                                     Item Name  Price  \\\n",
       "0      101                                  Final Critic  $4.19   \n",
       "1      178  Oathbreaker, Last Hope of the Breaking Storm  $4.23   \n",
       "2       82                                       Nirvana  $4.90   \n",
       "3      145                          Fiery Glass Crusader  $4.58   \n",
       "4      103                                Singed Scalpel  $4.35   \n",
       "\n",
       "   Purchase Count Total Purchase Value  \n",
       "0              13               $59.99  \n",
       "1              12               $50.76  \n",
       "2               9               $44.10  \n",
       "3               9               $41.22  \n",
       "4               8               $34.80  "
      ]
     },
     "execution_count": 195,
     "metadata": {},
     "output_type": "execute_result"
    }
   ],
   "source": [
    "# Put all new data into new table with 'price'\n",
    "data3[\"Purchase Count\"] = top_prof_ct\n",
    "data3[\"Total Purchase Value\"] = top_profit_it\n",
    "data3[\"Total Purchase Value\"] = data3[\"Total Purchase Value\"].map(\"${:.2f}\".format)\n",
    "data3[\"Price\"] = data3[\"Price\"].map(\"${:.2f}\".format)\n",
    "# data1 = data.rename(columns={\"Price\":\"Item Price\"})\n",
    "data4 = data3.reset_index(drop=True)\n",
    "data4"
   ]
  },
  {
   "cell_type": "code",
   "execution_count": null,
   "metadata": {},
   "outputs": [],
   "source": []
  }
 ],
 "metadata": {
  "kernelspec": {
   "display_name": "Python 3",
   "language": "python",
   "name": "python3"
  },
  "language_info": {
   "codemirror_mode": {
    "name": "ipython",
    "version": 3
   },
   "file_extension": ".py",
   "mimetype": "text/x-python",
   "name": "python",
   "nbconvert_exporter": "python",
   "pygments_lexer": "ipython3",
   "version": "3.6.4"
  }
 },
 "nbformat": 4,
 "nbformat_minor": 2
}
